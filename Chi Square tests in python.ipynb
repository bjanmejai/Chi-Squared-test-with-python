{
 "cells": [
  {
   "cell_type": "markdown",
   "id": "c4777845",
   "metadata": {},
   "source": [
    "# The Chi-squared goodness of fit test \n",
    "Chi-squared (χ²) goodness of fit test is a hypothesis test that determines whether an observed categorical variable with more than two possible levels follows an expected distribution. The null hypothesis (H0) of the test is that the categorical variable follows the expected distribution. The alternative hypothesis (Ha) is that the categorical variable does not follow the expected distribution. Consider the scenario in this reading that will define the null and alternative hypotheses based on the scenario, set up a Goodness of Fit test, evaluate the test results, and draw a conclusion. "
   ]
  },
  {
   "cell_type": "markdown",
   "id": "86d12c8d",
   "metadata": {},
   "source": [
    "Here are the main steps you will take:\n",
    "\n",
    "Identify the Null and Alternative Hypotheses \n",
    "\n",
    "Calculate the chi-square test statistic *(𝛘2)*\n",
    "\n",
    "Calculate the p-value \n",
    "\n",
    "Make a conclusion\n",
    "\n",
    "\n",
    "Note that the 𝛸2 goodness of fit test does not produce reliable results when there are any expected values of less than five."
   ]
  },
  {
   "cell_type": "markdown",
   "id": "d85268d1",
   "metadata": {},
   "source": [
    "The following code uses your observed and expected values to calculate the chi-squared test statistic and the p-value. Note that the degrees of freedom are set to the number of observed frequencies minus one. This can be adjusted using the ddof parameter, but note that this parameter represents k - 1 - ddof degrees of freedom, where k is the number of observed frequencies. So, by default, ddof=0 when you call the function, and setting ddof=1 means that your degrees of freedom are reduced by two."
   ]
  },
  {
   "cell_type": "markdown",
   "id": "66217ce4",
   "metadata": {},
   "source": [
    "import scipy.stats as stats\n",
    "\n",
    "observations = [650, 570, 420, 480, 510, 380, 490]\n",
    "\n",
    "expectations = [500, 500, 500, 500, 500, 500, 500]\n",
    "\n",
    "result = stats.chisquare(f_obs=observations, f_exp=expectations)\n",
    "\n",
    "result"
   ]
  },
  {
   "cell_type": "markdown",
   "id": "e6bab0bb",
   "metadata": {},
   "source": [
    "# The Chi-squared test for independence\n",
    "Chi-squared (χ²) Test for Independence is a hypothesis test that determines whether or not two categorical variables are associated with each other. It is valid when your data comes from a random sample and you want to make an inference about the general population. The null hypothesis (H0) of the test is that two categorical variables are independent. The alternative hypothesis (Ha) is that two categorical variables are not independent."
   ]
  },
  {
   "cell_type": "markdown",
   "id": "9d88be4d",
   "metadata": {},
   "source": [
    "You can use the scipy.stats package’s \n",
    "chi2_contingency() function\n",
    " to obtain the 𝛸2 test statistic and p-value of a 𝛸2 independence test. The chi2_contingency() function only needs the observed values; it will calculate the expected values for you. Here is the Python code:"
   ]
  },
  {
   "cell_type": "code",
   "execution_count": 1,
   "id": "f104561e",
   "metadata": {},
   "outputs": [
    {
     "data": {
      "text/plain": [
       "(13.660757846804358,\n",
       " 0.00021898310129108426,\n",
       " 1,\n",
       " array([[ 798.57142857,  501.42857143],\n",
       "        [1351.42857143,  848.57142857]]))"
      ]
     },
     "execution_count": 1,
     "metadata": {},
     "output_type": "execute_result"
    }
   ],
   "source": [
    "import numpy as np\n",
    "import scipy.stats as stats\n",
    "observations = np.array([[850, 450],[1300, 900]])\n",
    "result = stats.contingency.chi2_contingency(observations, correction=False)\n",
    "result"
   ]
  },
  {
   "cell_type": "markdown",
   "id": "e03367ef",
   "metadata": {},
   "source": [
    "The output above is in the following order: the 𝛸2 statistic, p-value, degrees of freedom, and expected values in array format. One thing to note is that when degrees of freedom = 1 (i.e., you have a 2 x 2 table), the default behavior of the stats.chi2_contingency() function is to apply \n",
    "Yates’ correction for continuity\n",
    ". This is to make it less likely that small discrepancies will result in significant 𝛸2 values. It is designed to be used when it’s possible for an expected frequency in the table to be small (generally < 5). In the given example, it is known that the expected values are all well over five. Therefore, the correction parameter was set to False"
   ]
  },
  {
   "cell_type": "code",
   "execution_count": null,
   "id": "2b539c21",
   "metadata": {},
   "outputs": [],
   "source": []
  },
  {
   "cell_type": "code",
   "execution_count": null,
   "id": "8d56ae1f",
   "metadata": {},
   "outputs": [],
   "source": []
  },
  {
   "cell_type": "code",
   "execution_count": null,
   "id": "dad85f52",
   "metadata": {},
   "outputs": [],
   "source": []
  },
  {
   "cell_type": "code",
   "execution_count": null,
   "id": "b3cde104",
   "metadata": {},
   "outputs": [],
   "source": []
  },
  {
   "cell_type": "code",
   "execution_count": null,
   "id": "cbf4850e",
   "metadata": {},
   "outputs": [],
   "source": []
  }
 ],
 "metadata": {
  "kernelspec": {
   "display_name": "Python 3",
   "language": "python",
   "name": "python3"
  },
  "language_info": {
   "codemirror_mode": {
    "name": "ipython",
    "version": 3
   },
   "file_extension": ".py",
   "mimetype": "text/x-python",
   "name": "python",
   "nbconvert_exporter": "python",
   "pygments_lexer": "ipython3",
   "version": "3.7.1"
  }
 },
 "nbformat": 4,
 "nbformat_minor": 5
}
